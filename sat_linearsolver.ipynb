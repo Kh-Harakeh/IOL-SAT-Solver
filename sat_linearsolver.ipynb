{
  "nbformat": 4,
  "nbformat_minor": 0,
  "metadata": {
    "colab": {
      "provenance": [],
      "authorship_tag": "ABX9TyOaVHeZ0rjIhJT3gB8l7CtO",
      "include_colab_link": true
    },
    "kernelspec": {
      "name": "python3",
      "display_name": "Python 3"
    },
    "language_info": {
      "name": "python"
    }
  },
  "cells": [
    {
      "cell_type": "markdown",
      "metadata": {
        "id": "view-in-github",
        "colab_type": "text"
      },
      "source": [
        "<a href=\"https://colab.research.google.com/github/Kh-Harakeh/IOL-SAT-Solver/blob/main/sat_linearsolver.ipynb\" target=\"_parent\"><img src=\"https://colab.research.google.com/assets/colab-badge.svg\" alt=\"Open In Colab\"/></a>"
      ]
    },
    {
      "cell_type": "code",
      "source": [
        "def T(formula):\n",
        "    def negate(expression):\n",
        "        return '¬' + expression\n",
        "\n",
        "    def process_operation(expression, operator, operation_func):\n",
        "        parts = expression.split(operator)\n",
        "        left = transform(parts[0].strip())\n",
        "        right = transform(parts[1].strip())\n",
        "        return operation_func(left, right)\n",
        "\n",
        "    def conjunction(left, right):\n",
        "        return left + ' ∧ ' + right\n",
        "\n",
        "    def disjunction(left, right):\n",
        "        return '¬(¬' + left + ' ∧ ¬' + right + ')'\n",
        "\n",
        "    def implication(left, right):\n",
        "        return '¬(' + left + ' ∧ ¬' + right + ')'\n",
        "\n",
        "    def transform(expression):\n",
        "        if expression.isalpha():\n",
        "            return expression\n",
        "\n",
        "        while expression.startswith('(') and expression.endswith(')'):\n",
        "            expression = expression[1:-1]\n",
        "\n",
        "        if expression.startswith('¬'):\n",
        "            inner = transform(expression[1:])\n",
        "            return negate(inner)\n",
        "\n",
        "        for op, func in [('∧', conjunction), ('∨', disjunction), ('→', implication)]:\n",
        "            if op in expression:\n",
        "                return process_operation(expression, op, func)\n",
        "\n",
        "        return expression\n",
        "\n",
        "    return transform(formula)\n",
        "\n",
        "class ExpressionNode:\n",
        "    def __init__(self, content, left=None, right=None):\n",
        "        self.content = content\n",
        "        self.left = left\n",
        "        self.right = right\n",
        "\n",
        "def parse_expression(expression):\n",
        "    def remove_outer_parentheses(expression):\n",
        "        while expression.startswith('(') and expression.endswith(')'):\n",
        "            expression = expression[1:-1].strip()\n",
        "        return expression\n",
        "\n",
        "    def find_main_conjunction(expression):\n",
        "        depth = 0\n",
        "        for i, char in enumerate(expression):\n",
        "            if char == '(':\n",
        "                depth += 1\n",
        "            elif char == ')':\n",
        "                depth -= 1\n",
        "            elif depth == 0 and char == '∧':\n",
        "                return i\n",
        "        return -1\n",
        "\n",
        "    expression = remove_outer_parentheses(expression)\n",
        "    conj_index = find_main_conjunction(expression)\n",
        "\n",
        "    if conj_index != -1:\n",
        "        return ExpressionNode('∧',\n",
        "                              parse_expression(expression[:conj_index].strip()),\n",
        "                              parse_expression(expression[conj_index+1:].strip()))\n",
        "    elif expression.startswith('¬'):\n",
        "        return ExpressionNode('¬', right=parse_expression(expression[1:].strip()))\n",
        "    else:\n",
        "        return ExpressionNode(expression)\n",
        "\n",
        "def transform_to_dag(node, memo=None):\n",
        "    if node is None:\n",
        "        return None\n",
        "\n",
        "    if memo is None:\n",
        "        memo = {}\n",
        "\n",
        "    left_dag = transform_to_dag(node.left, memo)\n",
        "    right_dag = transform_to_dag(node.right, memo)\n",
        "    signature = (node.content, left_dag, right_dag)\n",
        "\n",
        "    if signature in memo:\n",
        "        return memo[signature]\n",
        "\n",
        "    node.left = left_dag\n",
        "    node.right = right_dag\n",
        "    memo[signature] = node\n",
        "\n",
        "    return node\n",
        "\n",
        "def apply_truth_values(node, truth_values, processed):\n",
        "    if node is None or node in processed:\n",
        "        return True\n",
        "\n",
        "    processed.add(node)\n",
        "\n",
        "    if node.content == '¬':\n",
        "        negated_node = node.right\n",
        "        if negated_node not in truth_values:\n",
        "            truth_values[negated_node] = not truth_values.get(node, True)\n",
        "        elif truth_values[negated_node] == truth_values.get(node, True):\n",
        "            return False\n",
        "\n",
        "    elif node.content == '∧':\n",
        "        left, right = node.left, node.right\n",
        "        if truth_values.get(node, True):\n",
        "            truth_values[left] = truth_values[right] = True\n",
        "        else:\n",
        "            if left in truth_values and right in truth_values and truth_values[left] and truth_values[right]:\n",
        "                return False\n",
        "\n",
        "    return apply_truth_values(node.left, truth_values, processed) and apply_truth_values(node.right, truth_values, processed)\n",
        "\n",
        "def is_satisfiable(root):\n",
        "    truth_values = {root: True}\n",
        "    processed = set()\n",
        "\n",
        "    if not apply_truth_values(root, truth_values, processed):\n",
        "        return False\n",
        "\n",
        "    return True\n",
        "\n",
        "def print_tree(node, prefix=\"\", branch='root'):\n",
        "    if node is not None:\n",
        "        branch_symbols = {\"root\": \"\", \"left\": \"├── \", \"right\": \"└── \"}\n",
        "        connectors = {\"root\": \"    \", \"left\": \"│   \", \"right\": \"    \"}\n",
        "\n",
        "        print(prefix + branch_symbols[branch] + node.content)\n",
        "        prefix += connectors[branch]\n",
        "\n",
        "        if node.left and node.right:\n",
        "            print_tree(node.left, prefix, 'left')\n",
        "            print_tree(node.right, prefix, 'right')\n",
        "        elif node.left:\n",
        "            print_tree(node.left, prefix, 'right')\n",
        "        elif node.right:\n",
        "            print_tree(node.right, prefix, 'right')\n",
        "\n",
        "def print_dag(node, prefix=\"\", branch='root', visited=None, labels=None):\n",
        "    if node is None:\n",
        "        return\n",
        "\n",
        "    if visited is None:\n",
        "        visited = set()\n",
        "        labels = {}\n",
        "\n",
        "    if node not in labels:\n",
        "        labels[node] = len(labels) + 1\n",
        "\n",
        "    label = labels[node]\n",
        "    branch_symbols = {\"root\": \"\", \"left\": \"├── \", \"right\": \"└── \"}\n",
        "    connectors = {\"root\": \"    \", \"left\": \"│   \", \"right\": \"    \"}\n",
        "    shared = ' (shared)' if node in visited else ''\n",
        "\n",
        "    print(prefix + branch_symbols[branch] + f\"Node {label}: {node.content}{shared}\")\n",
        "\n",
        "    if node in visited:\n",
        "        return\n",
        "\n",
        "    visited.add(node)\n",
        "    prefix += connectors[branch]\n",
        "\n",
        "    if node.left and node.right:\n",
        "        print_dag(node.left, prefix, 'left', visited, labels)\n",
        "        print_dag(node.right, prefix, 'right', visited, labels)\n",
        "    elif node.left:\n",
        "        print_dag(node.left, prefix, 'right', visited, labels)\n",
        "    elif node.right:\n",
        "        print_dag(node.right, prefix, 'right', visited, labels)"
      ],
      "metadata": {
        "id": "jL4jUSTzf5vQ"
      },
      "execution_count": null,
      "outputs": []
    },
    {
      "cell_type": "code",
      "source": [
        "input_formula = \"p ∧ ¬(q ∨ ¬p)\"\n",
        "translated_formula = T(input_formula)\n",
        "print(\"Original formula:\", input_formula)\n",
        "print(\"Translated formula:\", translated_formula)"
      ],
      "metadata": {
        "colab": {
          "base_uri": "https://localhost:8080/"
        },
        "id": "ylpQqEYqgF2j",
        "outputId": "b8ab8fee-8e11-4b81-e3df-13759e23b23d"
      },
      "execution_count": null,
      "outputs": [
        {
          "output_type": "stream",
          "name": "stdout",
          "text": [
            "Original formula: p ∧ ¬(q ∨ ¬p)\n",
            "Translated formula: p ∧ ¬¬(¬q ∧ ¬¬p)\n"
          ]
        }
      ]
    },
    {
      "cell_type": "code",
      "source": [
        "input_formula = translated_formula\n",
        "root = parse_expression(input_formula)\n",
        "print(\"Parse tree of the formula:\")\n",
        "print_tree(root)"
      ],
      "metadata": {
        "colab": {
          "base_uri": "https://localhost:8080/"
        },
        "id": "2awVPpSYgKyo",
        "outputId": "07dd8173-7295-486c-a75c-aa9bde5369d2"
      },
      "execution_count": null,
      "outputs": [
        {
          "output_type": "stream",
          "name": "stdout",
          "text": [
            "Parse tree of the formula:\n",
            "∧\n",
            "    ├── p\n",
            "    └── ¬\n",
            "        └── ¬\n",
            "            └── ∧\n",
            "                ├── ¬\n",
            "                │   └── q\n",
            "                └── ¬\n",
            "                    └── ¬\n",
            "                        └── p\n"
          ]
        }
      ]
    },
    {
      "cell_type": "code",
      "source": [
        "seen_subtrees = {}\n",
        "root = transform_to_dag(root, seen_subtrees)\n",
        "print(\"DAG of the formula:\")\n",
        "print_dag(root)"
      ],
      "metadata": {
        "colab": {
          "base_uri": "https://localhost:8080/"
        },
        "id": "cQCIeJmjgOk2",
        "outputId": "95dde9df-f81d-4044-de82-adae9d0f7145"
      },
      "execution_count": null,
      "outputs": [
        {
          "output_type": "stream",
          "name": "stdout",
          "text": [
            "DAG of the formula:\n",
            "Node 1: ∧\n",
            "    ├── Node 2: p\n",
            "    └── Node 3: ¬\n",
            "        └── Node 4: ¬\n",
            "            └── Node 5: ∧\n",
            "                ├── Node 6: ¬\n",
            "                │   └── Node 7: q\n",
            "                └── Node 8: ¬\n",
            "                    └── Node 9: ¬\n",
            "                        └── Node 2: p (shared)\n"
          ]
        }
      ]
    },
    {
      "cell_type": "code",
      "source": [
        "satisfiable = is_satisfiable(root)\n",
        "print(\"The formula is satisfiable.\" if satisfiable else \"The formula is not satisfiable.\")"
      ],
      "metadata": {
        "colab": {
          "base_uri": "https://localhost:8080/"
        },
        "id": "8ScsFoUagSK0",
        "outputId": "07844b9b-0d67-40cf-a618-3d3965d74dfc"
      },
      "execution_count": null,
      "outputs": [
        {
          "output_type": "stream",
          "name": "stdout",
          "text": [
            "The formula is satisfiable.\n"
          ]
        }
      ]
    }
  ]
}